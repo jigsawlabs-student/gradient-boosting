{
 "cells": [
  {
   "cell_type": "markdown",
   "metadata": {},
   "source": [
    "# Gradient Boosting Mathematics"
   ]
  },
  {
   "cell_type": "markdown",
   "metadata": {},
   "source": [
    "### Introduction"
   ]
  },
  {
   "cell_type": "markdown",
   "metadata": {},
   "source": [
    "### Hypothesis Function"
   ]
  },
  {
   "cell_type": "markdown",
   "metadata": {},
   "source": [
    "1. Initialize model with a constant value:\n",
    "\n",
    "$\\hat{F_0} = \\gamma = \\underset{\\gamma}{argmin} \\sum^n_{i=1} L(y_i, \\gamma)$\n",
    "\n",
    "2. for $m = 1...M$:\n",
    "\n",
    "> a) $r_i = - [\\frac{\\delta L(y_i, f(x_i))}{\\delta f(x_i)}]$, for $i = 1...n$\n",
    "\n",
    "> b) Fit a regression tree to $r_{im}$ values with terminal regions $R_{jm}$ for $j = 1...J_m$\n",
    "\n",
    "3. For $j = 1...J_m$ compute $\\gamma_{jm} = \\underset{\\gamma}{argmin} \\sum^n_{i=1} L(y_i, F_{m -1}+  \\gamma) $\n",
    "\n",
    "4. Update $F_m = F_{m -1}(x) + \\rho \\sum^{J_m}_{j=1}\\gamma_{jm} I(x \\epsilon \\in R_{jm})$"
   ]
  },
  {
   "cell_type": "markdown",
   "metadata": {},
   "source": [
    "### Translating to English"
   ]
  },
  {
   "cell_type": "markdown",
   "metadata": {},
   "source": [
    "Now let's break down how this model translates into the algorithm that we developed in the previous lesson."
   ]
  },
  {
   "cell_type": "markdown",
   "metadata": {},
   "source": [
    "1. Initialize model with a constant value:\n",
    "> $\\hat{F_0} = \\gamma = \\underset{\\gamma}{argmin} \\sum^n_{i=1} L(y_i, \\gamma)$"
   ]
  },
  {
   "cell_type": "markdown",
   "metadata": {},
   "source": [
    "The above indicates that our initial estimator should be a value that minimizes the loss function.  With a loss function of $L = \\sum (y_i - \\gamma)^2$.  The constant value $\\gamma$ that minimizes SSE is the mean."
   ]
  },
  {
   "cell_type": "code",
   "execution_count": 6,
   "metadata": {},
   "outputs": [],
   "source": [
    "# prediction = np.full(y_train.shape[0], y_train.mean())"
   ]
  },
  {
   "cell_type": "markdown",
   "metadata": {},
   "source": [
    "2. for $m = 1...M$:\n",
    "\n",
    "> a)  $r_i = - [\\frac{\\delta L(y_i, f(x_i))}{\\delta f(x_i)}]$, for $i = 1...n$\n",
    "\n",
    "> b) Fit a regression tree to $r_{im}$ values with terminal regions $R_{jm}$ for $j = 1...J_m$"
   ]
  },
  {
   "cell_type": "markdown",
   "metadata": {},
   "source": [
    "This translates into the second part of our train function."
   ]
  },
  {
   "cell_type": "code",
   "execution_count": null,
   "metadata": {},
   "outputs": [],
   "source": [
    "for i in range(n):\n",
    "    psr = y - predictions\n",
    "    dtr = DecisionTreeRegressor(min_samples_leaf = 5).fit(X,psr)\n",
    "    dtrs.append(dtr)"
   ]
  },
  {
   "cell_type": "markdown",
   "metadata": {},
   "source": [
    "The tricky part is seeing how  $r_i = - [\\frac{\\delta L(y_i, f(x_i))}{\\delta f(x_i)}]$, translates into $y - f(x)$, or in the code above, `y - predictions`."
   ]
  },
  {
   "cell_type": "markdown",
   "metadata": {},
   "source": [
    "The line $r_i = - [\\frac{\\delta L(y_i, f(x_i))}{\\delta f(x_i)}]$, means to calculate the gradient of the loss function with respect to the hypothesis function.  Because the loss function is:\n",
    "\n",
    "$L(y_i, f(x_i)) = (y - f(x_i))^2$ then\n",
    "\n",
    "$\\frac{\\delta L(y_i, f(x_i))}{\\delta f(x_i)} = 2(y - f(x_i))*-1 = 2(f(x_i) - y)$, and thus:"
   ]
  },
  {
   "cell_type": "markdown",
   "metadata": {},
   "source": [
    "$- \\frac{\\delta L(y_i, f(x_i))}{\\delta f(x_i)}  = 2(y - f(x_i))$ which translates to `r = y - predictions`."
   ]
  },
  {
   "cell_type": "markdown",
   "metadata": {},
   "source": [
    "So then we just fit a decision tree to these pseudoresiduals:"
   ]
  },
  {
   "cell_type": "markdown",
   "metadata": {},
   "source": [
    "> b) Fit a regression tree to $r_{im}$ values with terminal regions $R_{jm}$ for $j = 1...J_m$"
   ]
  },
  {
   "cell_type": "code",
   "execution_count": null,
   "metadata": {},
   "outputs": [],
   "source": [
    "# dtr = DecisionTreeRegressor(min_samples_leaf = 5).fit(X,psr)"
   ]
  },
  {
   "cell_type": "markdown",
   "metadata": {},
   "source": [
    "3. For $j = 1...J_m$ compute $\\gamma_{jm} = \\underset{\\gamma}{argmin} \\sum^n_{i=1} L(y_i, F_{m -1}+  \\gamma) $"
   ]
  },
  {
   "cell_type": "markdown",
   "metadata": {},
   "source": [
    "> This just says that the prediction value is the value for each leaf, that minimizes the sum of the y values in the leaf node, and the current predictions for that node plus a new value $\\gamma$."
   ]
  },
  {
   "cell_type": "markdown",
   "metadata": {},
   "source": [
    "4. $F_m = F_{m -1}(x) + \\rho \\sum^{J_m}_{j=1}\\gamma_{jm} I(x \\epsilon \\in R_{jm})$"
   ]
  },
  {
   "cell_type": "markdown",
   "metadata": {},
   "source": [
    "> Finally, the new state of the model is the previous version, plus a learning rate plus the prediction of the leaf that the value x falls into for the most recent tree, $/gamma$."
   ]
  },
  {
   "cell_type": "markdown",
   "metadata": {},
   "source": [
    "### All Together Now"
   ]
  },
  {
   "cell_type": "markdown",
   "metadata": {},
   "source": [
    "1. Initialize model with a constant value:\n",
    "\n",
    "$\\hat{F_0} = \\gamma = \\underset{\\gamma}{argmin} \\sum^n_{i=1} L(y_i, \\gamma)$\n",
    "\n",
    "2. for $m = 1...M$:\n",
    "\n",
    "> a) $r_i = - [\\frac{\\delta L(y_i, f(x_i))}{\\delta f(x_i)}]$, for $i = 1...n$\n",
    "\n",
    "> b) Fit a regression tree to $r_{im}$ values with terminal regions $R_{jm}$ for $j = 1...J_m$\n",
    "\n",
    "3. For $j = 1...J_m$ compute $\\gamma_{jm} = \\underset{\\gamma}{argmin} \\sum^n_{i=1} L(y_i, F_{m -1}+  \\gamma) $\n",
    "\n",
    "4. Update $F_m = F_{m -1}(x) + \\rho \\sum^{J_m}_{j=1}\\gamma_{jm} I(x \\epsilon \\in R_{jm})$"
   ]
  }
 ],
 "metadata": {
  "kernelspec": {
   "display_name": "Python 3",
   "language": "python",
   "name": "python3"
  },
  "language_info": {
   "codemirror_mode": {
    "name": "ipython",
    "version": 3
   },
   "file_extension": ".py",
   "mimetype": "text/x-python",
   "name": "python",
   "nbconvert_exporter": "python",
   "pygments_lexer": "ipython3",
   "version": "3.7.4"
  }
 },
 "nbformat": 4,
 "nbformat_minor": 4
}
