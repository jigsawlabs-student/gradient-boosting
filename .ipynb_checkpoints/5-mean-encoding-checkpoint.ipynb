{
 "cells": [
  {
   "cell_type": "markdown",
   "metadata": {},
   "source": [
    "# IMDB Mean Encoding"
   ]
  },
  {
   "cell_type": "markdown",
   "metadata": {},
   "source": [
    "### Introduction"
   ]
  },
  {
   "cell_type": "markdown",
   "metadata": {},
   "source": [
    "In this lesson, we can practice using our cross validation library with the imdb dataset.  Let's again start by loading the data."
   ]
  },
  {
   "cell_type": "markdown",
   "metadata": {},
   "source": [
    "### Loading the Data"
   ]
  },
  {
   "cell_type": "code",
   "execution_count": 5,
   "metadata": {},
   "outputs": [],
   "source": [
    "import pandas as pd\n",
    "\n",
    "movies_df = pd.read_csv('./coerced_movies.csv', index_col = 0)"
   ]
  },
  {
   "cell_type": "code",
   "execution_count": 6,
   "metadata": {},
   "outputs": [
    {
     "data": {
      "text/plain": [
       "(799, 6)"
      ]
     },
     "execution_count": 6,
     "metadata": {},
     "output_type": "execute_result"
    }
   ],
   "source": [
    "movies_df.shape"
   ]
  },
  {
   "cell_type": "code",
   "execution_count": 132,
   "metadata": {},
   "outputs": [],
   "source": [
    "# movies_df[:-1]"
   ]
  },
  {
   "cell_type": "markdown",
   "metadata": {},
   "source": [
    "### Assigning and Coercing"
   ]
  },
  {
   "cell_type": "markdown",
   "metadata": {},
   "source": [
    "Now, let's try mean encoding."
   ]
  },
  {
   "cell_type": "code",
   "execution_count": 7,
   "metadata": {},
   "outputs": [],
   "source": [
    "X = movies_df.drop('revenue', axis = 1)"
   ]
  },
  {
   "cell_type": "code",
   "execution_count": 8,
   "metadata": {},
   "outputs": [],
   "source": [
    "y = movies_df['revenue']"
   ]
  },
  {
   "cell_type": "markdown",
   "metadata": {},
   "source": [
    "### Feature Engineering "
   ]
  },
  {
   "cell_type": "code",
   "execution_count": 9,
   "metadata": {},
   "outputs": [],
   "source": [
    "from sklearn.model_selection import train_test_split\n",
    "\n",
    "movies_train, movies_test = train_test_split(movies_df, test_size = .4, shuffle = False)\n",
    "movies_validate, movies_test = train_test_split(movies_test, test_size = .5, shuffle = False)"
   ]
  },
  {
   "cell_type": "code",
   "execution_count": 10,
   "metadata": {},
   "outputs": [
    {
     "data": {
      "text/html": [
       "<div>\n",
       "<style scoped>\n",
       "    .dataframe tbody tr th:only-of-type {\n",
       "        vertical-align: middle;\n",
       "    }\n",
       "\n",
       "    .dataframe tbody tr th {\n",
       "        vertical-align: top;\n",
       "    }\n",
       "\n",
       "    .dataframe thead th {\n",
       "        text-align: right;\n",
       "    }\n",
       "</style>\n",
       "<table border=\"1\" class=\"dataframe\">\n",
       "  <thead>\n",
       "    <tr style=\"text-align: right;\">\n",
       "      <th></th>\n",
       "      <th>genre</th>\n",
       "      <th>budget</th>\n",
       "      <th>runtime</th>\n",
       "      <th>year</th>\n",
       "      <th>month</th>\n",
       "      <th>revenue</th>\n",
       "    </tr>\n",
       "  </thead>\n",
       "  <tbody>\n",
       "    <tr>\n",
       "      <th>235</th>\n",
       "      <td>Fantasy</td>\n",
       "      <td>97250400</td>\n",
       "      <td>116.0</td>\n",
       "      <td>2008</td>\n",
       "      <td>1</td>\n",
       "      <td>132900000</td>\n",
       "    </tr>\n",
       "    <tr>\n",
       "      <th>849</th>\n",
       "      <td>Crime</td>\n",
       "      <td>55000000</td>\n",
       "      <td>141.0</td>\n",
       "      <td>2008</td>\n",
       "      <td>1</td>\n",
       "      <td>113020255</td>\n",
       "    </tr>\n",
       "    <tr>\n",
       "      <th>1413</th>\n",
       "      <td>Drama</td>\n",
       "      <td>35000000</td>\n",
       "      <td>101.0</td>\n",
       "      <td>2008</td>\n",
       "      <td>1</td>\n",
       "      <td>32483410</td>\n",
       "    </tr>\n",
       "  </tbody>\n",
       "</table>\n",
       "</div>"
      ],
      "text/plain": [
       "        genre    budget  runtime  year  month    revenue\n",
       "235   Fantasy  97250400    116.0  2008      1  132900000\n",
       "849     Crime  55000000    141.0  2008      1  113020255\n",
       "1413    Drama  35000000    101.0  2008      1   32483410"
      ]
     },
     "execution_count": 10,
     "metadata": {},
     "output_type": "execute_result"
    }
   ],
   "source": [
    "movies_train[:3]"
   ]
  },
  {
   "cell_type": "code",
   "execution_count": 12,
   "metadata": {},
   "outputs": [
    {
     "data": {
      "text/plain": [
       "Action             109\n",
       "Comedy             102\n",
       "Drama               83\n",
       "Adventure           57\n",
       "Animation           33\n",
       "Fantasy             18\n",
       "na                  17\n",
       "Thriller            15\n",
       "Horror              13\n",
       "Crime               11\n",
       "Romance             11\n",
       "Science Fiction     10\n",
       "Name: genre, dtype: int64"
      ]
     },
     "execution_count": 12,
     "metadata": {},
     "output_type": "execute_result"
    }
   ],
   "source": [
    "movies_train['genre'].value_counts()"
   ]
  },
  {
   "cell_type": "markdown",
   "metadata": {},
   "source": [
    "Now, to perform mean encoding we simply group our data by genre, and find the average revenue value."
   ]
  },
  {
   "cell_type": "code",
   "execution_count": 13,
   "metadata": {},
   "outputs": [],
   "source": [
    "genre_means = movies_train.groupby('genre').mean()['revenue']"
   ]
  },
  {
   "cell_type": "code",
   "execution_count": 15,
   "metadata": {},
   "outputs": [
    {
     "data": {
      "text/plain": [
       "genre\n",
       "Horror             7.330516e+07\n",
       "Crime              7.757479e+07\n",
       "Drama              9.985017e+07\n",
       "Romance            1.059148e+08\n",
       "Comedy             1.305874e+08\n",
       "Thriller           1.880501e+08\n",
       "Fantasy            1.977663e+08\n",
       "na                 2.003466e+08\n",
       "Action             2.187402e+08\n",
       "Adventure          2.961663e+08\n",
       "Animation          3.645671e+08\n",
       "Science Fiction    4.507836e+08\n",
       "Name: revenue, dtype: float64"
      ]
     },
     "execution_count": 15,
     "metadata": {},
     "output_type": "execute_result"
    }
   ],
   "source": [
    "genre_means.sort_values()"
   ]
  },
  {
   "cell_type": "markdown",
   "metadata": {},
   "source": [
    "So we can see that Science Fiction has the highest revenue, followed by Animation and Adventure/Action.  This seems about right."
   ]
  },
  {
   "cell_type": "markdown",
   "metadata": {},
   "source": [
    "We can turn these genres and the corresponding mean target value to a dictionary."
   ]
  },
  {
   "cell_type": "code",
   "execution_count": 16,
   "metadata": {},
   "outputs": [
    {
     "data": {
      "text/plain": [
       "{'Action': 218740154.56880733,\n",
       " 'Adventure': 296166336.3684211,\n",
       " 'Animation': 364567144.6969697,\n",
       " 'Comedy': 130587423.88235295,\n",
       " 'Crime': 77574786.9090909,\n",
       " 'Drama': 99850173.27710843,\n",
       " 'Fantasy': 197766303.7222222,\n",
       " 'Horror': 73305161.0,\n",
       " 'Romance': 105914778.45454545,\n",
       " 'Science Fiction': 450783550.9,\n",
       " 'Thriller': 188050065.13333333,\n",
       " 'na': 200346551.70588234}"
      ]
     },
     "execution_count": 16,
     "metadata": {},
     "output_type": "execute_result"
    }
   ],
   "source": [
    "genre_mean_dict = genre_means.to_dict()\n",
    "genre_mean_dict"
   ]
  },
  {
   "cell_type": "markdown",
   "metadata": {},
   "source": [
    "And then we can replace the genre with the mean target by mapping through the data."
   ]
  },
  {
   "cell_type": "code",
   "execution_count": 17,
   "metadata": {},
   "outputs": [],
   "source": [
    "genres_coerced = movies_train['genre'].map(genre_mean_dict)"
   ]
  },
  {
   "cell_type": "markdown",
   "metadata": {},
   "source": [
    "And then update our column in the dataframe."
   ]
  },
  {
   "cell_type": "code",
   "execution_count": 19,
   "metadata": {},
   "outputs": [],
   "source": [
    "movies_coerced = movies_train.assign(genre_means = genres_coerced)\n",
    "movies_coerced = movies_coerced.drop('genre', axis = 1)"
   ]
  },
  {
   "cell_type": "code",
   "execution_count": 20,
   "metadata": {},
   "outputs": [
    {
     "data": {
      "text/html": [
       "<div>\n",
       "<style scoped>\n",
       "    .dataframe tbody tr th:only-of-type {\n",
       "        vertical-align: middle;\n",
       "    }\n",
       "\n",
       "    .dataframe tbody tr th {\n",
       "        vertical-align: top;\n",
       "    }\n",
       "\n",
       "    .dataframe thead th {\n",
       "        text-align: right;\n",
       "    }\n",
       "</style>\n",
       "<table border=\"1\" class=\"dataframe\">\n",
       "  <thead>\n",
       "    <tr style=\"text-align: right;\">\n",
       "      <th></th>\n",
       "      <th>budget</th>\n",
       "      <th>runtime</th>\n",
       "      <th>year</th>\n",
       "      <th>month</th>\n",
       "      <th>revenue</th>\n",
       "      <th>genre_means</th>\n",
       "    </tr>\n",
       "  </thead>\n",
       "  <tbody>\n",
       "    <tr>\n",
       "      <th>235</th>\n",
       "      <td>97250400</td>\n",
       "      <td>116.0</td>\n",
       "      <td>2008</td>\n",
       "      <td>1</td>\n",
       "      <td>132900000</td>\n",
       "      <td>1.977663e+08</td>\n",
       "    </tr>\n",
       "    <tr>\n",
       "      <th>849</th>\n",
       "      <td>55000000</td>\n",
       "      <td>141.0</td>\n",
       "      <td>2008</td>\n",
       "      <td>1</td>\n",
       "      <td>113020255</td>\n",
       "      <td>7.757479e+07</td>\n",
       "    </tr>\n",
       "    <tr>\n",
       "      <th>1413</th>\n",
       "      <td>35000000</td>\n",
       "      <td>101.0</td>\n",
       "      <td>2008</td>\n",
       "      <td>1</td>\n",
       "      <td>32483410</td>\n",
       "      <td>9.985017e+07</td>\n",
       "    </tr>\n",
       "  </tbody>\n",
       "</table>\n",
       "</div>"
      ],
      "text/plain": [
       "        budget  runtime  year  month    revenue   genre_means\n",
       "235   97250400    116.0  2008      1  132900000  1.977663e+08\n",
       "849   55000000    141.0  2008      1  113020255  7.757479e+07\n",
       "1413  35000000    101.0  2008      1   32483410  9.985017e+07"
      ]
     },
     "execution_count": 20,
     "metadata": {},
     "output_type": "execute_result"
    }
   ],
   "source": [
    "movies_coerced[:3]"
   ]
  },
  {
   "cell_type": "markdown",
   "metadata": {},
   "source": [
    "Ok, now it's time to train our data."
   ]
  },
  {
   "cell_type": "code",
   "execution_count": 21,
   "metadata": {},
   "outputs": [],
   "source": [
    "X_train = movies_coerced.drop('revenue', axis = 1)\n",
    "y_train = movies_coerced['revenue']"
   ]
  },
  {
   "cell_type": "code",
   "execution_count": 22,
   "metadata": {},
   "outputs": [
    {
     "data": {
      "text/plain": [
       "0.9292899404740033"
      ]
     },
     "execution_count": 22,
     "metadata": {},
     "output_type": "execute_result"
    }
   ],
   "source": [
    "from sklearn.ensemble import RandomForestRegressor\n",
    "est = RandomForestRegressor(n_estimators = 100, max_depth = 30, max_features = 'log2', random_state = 1)\n",
    "est.fit(X_train, y_train).score(X_train, y_train)"
   ]
  },
  {
   "cell_type": "markdown",
   "metadata": {},
   "source": [
    "We can see that this gives us an extremely high score on the training set."
   ]
  },
  {
   "cell_type": "markdown",
   "metadata": {},
   "source": [
    "However on the validation set, we do not perform as well."
   ]
  },
  {
   "cell_type": "code",
   "execution_count": 23,
   "metadata": {},
   "outputs": [],
   "source": [
    "genre_means_val = movies_validate['genre'].map(genre_mean_dict)\n",
    "\n",
    "movies_val_coerced = movies_validate.assign(genre_means = genre_means_val)\n",
    "X_validate = movies_val_coerced.drop(columns = ['genre', 'revenue'], axis = 1)\n",
    "y_validate = movies_val_coerced['revenue']"
   ]
  },
  {
   "cell_type": "code",
   "execution_count": 24,
   "metadata": {},
   "outputs": [
    {
     "data": {
      "text/plain": [
       "0.5007806403778132"
      ]
     },
     "execution_count": 24,
     "metadata": {},
     "output_type": "execute_result"
    }
   ],
   "source": [
    "est.score(X_validate, y_validate)"
   ]
  },
  {
   "cell_type": "markdown",
   "metadata": {},
   "source": [
    "This is a sign of overfitting to our training data."
   ]
  },
  {
   "cell_type": "markdown",
   "metadata": {},
   "source": [
    "### Regularization via Cross Validation"
   ]
  },
  {
   "cell_type": "markdown",
   "metadata": {},
   "source": [
    "The overfitting can come in because we are using the knowledge about an observation's target an embedding it as a feature.\n",
    "\n",
    "To avoid this, we can use cross validation to divide our data into K folds, and continually use the training folds to set on the mean on the one holdout fold.  Let's try it and see how we do."
   ]
  },
  {
   "cell_type": "markdown",
   "metadata": {},
   "source": [
    "Now let's try this by looping through our folds."
   ]
  },
  {
   "cell_type": "code",
   "execution_count": 152,
   "metadata": {},
   "outputs": [],
   "source": [
    "train_new = X_train.copy()\n",
    "col = 'genre'\n",
    "target = 'revenue'\n",
    "ts_folds = list(KFold(5, shuffle = True).split(X_train))\n",
    "\n",
    "train_new = train_new.assign(genre_mean = train_new.revenue.mean())\n",
    "\n",
    "for tr_ind, val_ind in ts_folds:\n",
    "    X_tr, X_val = X_train.iloc[tr_ind], X_train.iloc[val_ind]\n",
    "    avg_mapper = X_tr.groupby(col).mean()[target].to_dict()\n",
    "    grouped_means = X_val[col].map(avg_mapper)\n",
    "    X_val = X_val.assign(genre_mean = grouped_means)\n",
    "    train_new.iloc[val_ind, :] = X_val"
   ]
  },
  {
   "cell_type": "code",
   "execution_count": 153,
   "metadata": {},
   "outputs": [],
   "source": [
    "# train_new.genre_mean.value_counts()"
   ]
  },
  {
   "cell_type": "markdown",
   "metadata": {},
   "source": [
    "Then because our genres are encoded differently, we need to find one final value to apply to our validation set."
   ]
  },
  {
   "cell_type": "code",
   "execution_count": 31,
   "metadata": {},
   "outputs": [
    {
     "data": {
      "text/plain": [
       "{'Action': 218740154.56880733,\n",
       " 'Adventure': 296166336.3684211,\n",
       " 'Animation': 364567144.6969697,\n",
       " 'Comedy': 130587423.88235295,\n",
       " 'Crime': 77574786.9090909,\n",
       " 'Drama': 99850173.27710843,\n",
       " 'Fantasy': 197766303.7222222,\n",
       " 'Horror': 73305161.0,\n",
       " 'Romance': 105914778.45454545,\n",
       " 'Science Fiction': 450783550.9,\n",
       " 'Thriller': 188050065.13333333,\n",
       " 'na': 200346551.70588234}"
      ]
     },
     "execution_count": 31,
     "metadata": {},
     "output_type": "execute_result"
    }
   ],
   "source": [
    "target = 'revenue'\n",
    "col = 'genre'\n",
    "avg_cross_mapper = train_new.groupby(col).mean()[target].to_dict()\n",
    "avg_cross_mapper"
   ]
  },
  {
   "cell_type": "markdown",
   "metadata": {},
   "source": [
    "So these are the values we'll update our validation and test sets with."
   ]
  },
  {
   "cell_type": "markdown",
   "metadata": {},
   "source": [
    "### Summary"
   ]
  },
  {
   "cell_type": "markdown",
   "metadata": {},
   "source": [
    "In this lesson, we saw the procedure for mean target encoding.  We perform mean target encoding by grouping our category values by their mean value.  One issue with this is that by using information about our target to predict our target, we suffer from data leakage.  We have information available in our training data that will not be available when we deploy our model.  To limit this data leakage, we used cross validation, where we used the mean values of different observations to encode each observation.  \n",
    "\n",
    "The catboost model takes advantage of mean encoding out of the box for us."
   ]
  },
  {
   "cell_type": "markdown",
   "metadata": {},
   "source": [
    "### Resources "
   ]
  },
  {
   "cell_type": "markdown",
   "metadata": {},
   "source": [
    "[Mean Encoding](https://github.com/scikit-learn-contrib/category_encoders)"
   ]
  },
  {
   "cell_type": "markdown",
   "metadata": {},
   "source": [
    "[Kaggle Mean Encoding](https://www.kaggle.com/vprokopev/mean-likelihood-encodings-a-comprehensive-study)"
   ]
  }
 ],
 "metadata": {
  "kernelspec": {
   "display_name": "Python 3",
   "language": "python",
   "name": "python3"
  },
  "language_info": {
   "codemirror_mode": {
    "name": "ipython",
    "version": 3
   },
   "file_extension": ".py",
   "mimetype": "text/x-python",
   "name": "python",
   "nbconvert_exporter": "python",
   "pygments_lexer": "ipython3",
   "version": "3.7.4"
  }
 },
 "nbformat": 4,
 "nbformat_minor": 4
}
