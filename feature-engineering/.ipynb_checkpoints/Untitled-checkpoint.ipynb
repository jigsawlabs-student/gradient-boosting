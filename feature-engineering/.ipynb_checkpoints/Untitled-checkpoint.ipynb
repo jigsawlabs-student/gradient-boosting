{
 "cells": [
  {
   "cell_type": "markdown",
   "metadata": {},
   "source": [
    "# Statistics Based Features"
   ]
  },
  {
   "cell_type": "markdown",
   "metadata": {},
   "source": [
    "* SpringLeaf Competition"
   ]
  },
  {
   "cell_type": "markdown",
   "metadata": {},
   "source": [
    "> Goal - calculate lowest and highest price for every user and page pair."
   ]
  },
  {
   "cell_type": "markdown",
   "metadata": {},
   "source": [
    "> This way can extract out the value of a user and an ad."
   ]
  },
  {
   "cell_type": "markdown",
   "metadata": {},
   "source": [
    "<img src=\"./min-and-max-price.png\">"
   ]
  },
  {
   "cell_type": "markdown",
   "metadata": {},
   "source": [
    "<img src=\"./springleaf-additional.png\" width=\"40%\">"
   ]
  },
  {
   "cell_type": "markdown",
   "metadata": {},
   "source": [
    "<img src=\"./distance-based-metrics.png\" width=\"50%\">"
   ]
  },
  {
   "cell_type": "markdown",
   "metadata": {},
   "source": [
    "2. Feature interactions \n",
    "    * For categorical features, can simply concatenate text of two features.\n",
    "    * For numerical interactions, can\n",
    "        * perform sum, diff, division, multiplication."
   ]
  },
  {
   "cell_type": "markdown",
   "metadata": {},
   "source": [
    "* Can be $n^2$ features, or more if apply to all.\n",
    "    > So then can do feature selection or dimensionality reduction."
   ]
  },
  {
   "cell_type": "markdown",
   "metadata": {},
   "source": [
    "* Choose number of latent factors - 5 - 100."
   ]
  },
  {
   "cell_type": "markdown",
   "metadata": {},
   "source": [
    "NMF - can only be applied to non-negative matrices (bag of words)."
   ]
  },
  {
   "cell_type": "markdown",
   "metadata": {},
   "source": [
    "NMF - does better than PCA, so use it when possible."
   ]
  },
  {
   "cell_type": "markdown",
   "metadata": {},
   "source": [
    "> Can do NMF(log (x + 1))"
   ]
  },
  {
   "cell_type": "markdown",
   "metadata": {},
   "source": [
    "* Tsne is widely used in exploratory data analysis."
   ]
  },
  {
   "cell_type": "markdown",
   "metadata": {},
   "source": [
    "> Perplexity hyperparameter - and strongly depends on this."
   ]
  },
  {
   "cell_type": "markdown",
   "metadata": {},
   "source": [
    "* So use several projections."
   ]
  },
  {
   "cell_type": "markdown",
   "metadata": {},
   "source": [
    "The *tsne package is faster."
   ]
  },
  {
   "cell_type": "code",
   "execution_count": null,
   "metadata": {},
   "outputs": [],
   "source": []
  }
 ],
 "metadata": {
  "kernelspec": {
   "display_name": "Python 3",
   "language": "python",
   "name": "python3"
  },
  "language_info": {
   "codemirror_mode": {
    "name": "ipython",
    "version": 3
   },
   "file_extension": ".py",
   "mimetype": "text/x-python",
   "name": "python",
   "nbconvert_exporter": "python",
   "pygments_lexer": "ipython3",
   "version": "3.7.4"
  }
 },
 "nbformat": 4,
 "nbformat_minor": 4
}
