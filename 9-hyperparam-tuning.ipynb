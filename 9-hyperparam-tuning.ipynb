{
 "cells": [
  {
   "cell_type": "markdown",
   "metadata": {
    "colab_type": "text",
    "id": "4iB2_dhCtEZO"
   },
   "source": [
    "# Hyperparameter Tuning"
   ]
  },
  {
   "cell_type": "markdown",
   "metadata": {
    "colab_type": "text",
    "id": "LUV4HiTRtEZQ"
   },
   "source": [
    "### Getting setup"
   ]
  },
  {
   "cell_type": "markdown",
   "metadata": {
    "colab_type": "text",
    "id": "FRs3aJSS6p2v"
   },
   "source": [
    "Before getting started, begin by going to `Runtime` in Google colab and changing the runtime to `GPU`.  Let's also install `catboost` into google colab."
   ]
  },
  {
   "cell_type": "code",
   "execution_count": 8,
   "metadata": {
    "colab": {
     "base_uri": "https://localhost:8080/",
     "height": 343
    },
    "colab_type": "code",
    "id": "KVqxGWJJ7X7z",
    "outputId": "022dc18a-e071-4e11-857b-037fb58f0d71"
   },
   "outputs": [
    {
     "name": "stdout",
     "output_type": "stream",
     "text": [
      "Collecting catboost\n",
      "\u001b[?25l  Downloading https://files.pythonhosted.org/packages/b2/aa/e61819d04ef2bbee778bf4b3a748db1f3ad23512377e43ecfdc3211437a0/catboost-0.23.2-cp36-none-manylinux1_x86_64.whl (64.8MB)\n",
      "\u001b[K     |████████████████████████████████| 64.8MB 46kB/s \n",
      "\u001b[?25hRequirement already satisfied: plotly in /usr/local/lib/python3.6/dist-packages (from catboost) (4.4.1)\n",
      "Requirement already satisfied: graphviz in /usr/local/lib/python3.6/dist-packages (from catboost) (0.10.1)\n",
      "Requirement already satisfied: scipy in /usr/local/lib/python3.6/dist-packages (from catboost) (1.4.1)\n",
      "Requirement already satisfied: six in /usr/local/lib/python3.6/dist-packages (from catboost) (1.12.0)\n",
      "Requirement already satisfied: numpy>=1.16.0 in /usr/local/lib/python3.6/dist-packages (from catboost) (1.18.5)\n",
      "Requirement already satisfied: pandas>=0.24.0 in /usr/local/lib/python3.6/dist-packages (from catboost) (1.0.4)\n",
      "Requirement already satisfied: matplotlib in /usr/local/lib/python3.6/dist-packages (from catboost) (3.2.1)\n",
      "Requirement already satisfied: retrying>=1.3.3 in /usr/local/lib/python3.6/dist-packages (from plotly->catboost) (1.3.3)\n",
      "Requirement already satisfied: pytz>=2017.2 in /usr/local/lib/python3.6/dist-packages (from pandas>=0.24.0->catboost) (2018.9)\n",
      "Requirement already satisfied: python-dateutil>=2.6.1 in /usr/local/lib/python3.6/dist-packages (from pandas>=0.24.0->catboost) (2.8.1)\n",
      "Requirement already satisfied: cycler>=0.10 in /usr/local/lib/python3.6/dist-packages (from matplotlib->catboost) (0.10.0)\n",
      "Requirement already satisfied: pyparsing!=2.0.4,!=2.1.2,!=2.1.6,>=2.0.1 in /usr/local/lib/python3.6/dist-packages (from matplotlib->catboost) (2.4.7)\n",
      "Requirement already satisfied: kiwisolver>=1.0.1 in /usr/local/lib/python3.6/dist-packages (from matplotlib->catboost) (1.2.0)\n",
      "Installing collected packages: catboost\n",
      "Successfully installed catboost-0.23.2\n"
     ]
    }
   ],
   "source": [
    "!pip install catboost"
   ]
  },
  {
   "cell_type": "markdown",
   "metadata": {
    "colab_type": "text",
    "id": "WYinFnz17O4e"
   },
   "source": [
    "Now, let's begin by loading up our bulldozers data.  We'll begin with our data pre-processed."
   ]
  },
  {
   "cell_type": "code",
   "execution_count": 2,
   "metadata": {
    "colab": {
     "base_uri": "https://localhost:8080/",
     "height": 199
    },
    "colab_type": "code",
    "id": "sLwDWKtZtEZS",
    "outputId": "5c545581-5a22-498f-e131-2dc67da815ee"
   },
   "outputs": [
    {
     "data": {
      "text/html": [
       "<div>\n",
       "<style scoped>\n",
       "    .dataframe tbody tr th:only-of-type {\n",
       "        vertical-align: middle;\n",
       "    }\n",
       "\n",
       "    .dataframe tbody tr th {\n",
       "        vertical-align: top;\n",
       "    }\n",
       "\n",
       "    .dataframe thead th {\n",
       "        text-align: right;\n",
       "    }\n",
       "</style>\n",
       "<table border=\"1\" class=\"dataframe\">\n",
       "  <thead>\n",
       "    <tr style=\"text-align: right;\">\n",
       "      <th></th>\n",
       "      <th>SalesID</th>\n",
       "      <th>SalePrice</th>\n",
       "      <th>MachineID</th>\n",
       "      <th>ModelID</th>\n",
       "      <th>datasource</th>\n",
       "      <th>auctioneerID</th>\n",
       "      <th>YearMade</th>\n",
       "      <th>MachineHoursCurrentMeter</th>\n",
       "      <th>UsageBand</th>\n",
       "      <th>fiModelDesc</th>\n",
       "      <th>...</th>\n",
       "      <th>saleDay</th>\n",
       "      <th>saleDayofweek</th>\n",
       "      <th>saleDayofyear</th>\n",
       "      <th>saleIs_month_end</th>\n",
       "      <th>saleIs_month_start</th>\n",
       "      <th>saleIs_quarter_end</th>\n",
       "      <th>saleIs_quarter_start</th>\n",
       "      <th>saleIs_year_end</th>\n",
       "      <th>saleIs_year_start</th>\n",
       "      <th>saleElapsed</th>\n",
       "    </tr>\n",
       "  </thead>\n",
       "  <tbody>\n",
       "    <tr>\n",
       "      <th>7648</th>\n",
       "      <td>1165000</td>\n",
       "      <td>27000.0</td>\n",
       "      <td>733687</td>\n",
       "      <td>7057</td>\n",
       "      <td>121</td>\n",
       "      <td>3.0</td>\n",
       "      <td>1995</td>\n",
       "      <td>4368.0</td>\n",
       "      <td>Medium</td>\n",
       "      <td>312</td>\n",
       "      <td>...</td>\n",
       "      <td>5</td>\n",
       "      <td>0</td>\n",
       "      <td>5</td>\n",
       "      <td>False</td>\n",
       "      <td>False</td>\n",
       "      <td>False</td>\n",
       "      <td>False</td>\n",
       "      <td>False</td>\n",
       "      <td>False</td>\n",
       "      <td>1073260800</td>\n",
       "    </tr>\n",
       "    <tr>\n",
       "      <th>8228</th>\n",
       "      <td>1166933</td>\n",
       "      <td>10750.0</td>\n",
       "      <td>1035166</td>\n",
       "      <td>8861</td>\n",
       "      <td>121</td>\n",
       "      <td>3.0</td>\n",
       "      <td>2002</td>\n",
       "      <td>603.0</td>\n",
       "      <td>Low</td>\n",
       "      <td>803</td>\n",
       "      <td>...</td>\n",
       "      <td>9</td>\n",
       "      <td>4</td>\n",
       "      <td>9</td>\n",
       "      <td>False</td>\n",
       "      <td>False</td>\n",
       "      <td>False</td>\n",
       "      <td>False</td>\n",
       "      <td>False</td>\n",
       "      <td>False</td>\n",
       "      <td>1073606400</td>\n",
       "    </tr>\n",
       "  </tbody>\n",
       "</table>\n",
       "<p>2 rows × 65 columns</p>\n",
       "</div>"
      ],
      "text/plain": [
       "      SalesID  SalePrice  MachineID  ModelID  datasource  auctioneerID  \\\n",
       "7648  1165000    27000.0     733687     7057         121           3.0   \n",
       "8228  1166933    10750.0    1035166     8861         121           3.0   \n",
       "\n",
       "      YearMade  MachineHoursCurrentMeter UsageBand fiModelDesc  ... saleDay  \\\n",
       "7648      1995                    4368.0    Medium         312  ...       5   \n",
       "8228      2002                     603.0       Low         803  ...       9   \n",
       "\n",
       "     saleDayofweek saleDayofyear saleIs_month_end saleIs_month_start  \\\n",
       "7648             0             5            False              False   \n",
       "8228             4             9            False              False   \n",
       "\n",
       "     saleIs_quarter_end saleIs_quarter_start saleIs_year_end  \\\n",
       "7648              False                False           False   \n",
       "8228              False                False           False   \n",
       "\n",
       "     saleIs_year_start saleElapsed  \n",
       "7648             False  1073260800  \n",
       "8228             False  1073606400  \n",
       "\n",
       "[2 rows x 65 columns]"
      ]
     },
     "execution_count": 2,
     "metadata": {},
     "output_type": "execute_result"
    }
   ],
   "source": [
    "import pandas as pd\n",
    "url = \"https://raw.githubusercontent.com/jigsawlabs-student/gradient-boosting/master/bulldozers_sorted.csv\"\n",
    "df_sorted = pd.read_csv(url, index_col = 0)\n",
    "df_sorted[:2]"
   ]
  },
  {
   "cell_type": "markdown",
   "metadata": {
    "colab_type": "text",
    "id": "Rqn7ZnjTtEZY"
   },
   "source": [
    "Looking at our data, our salesdata column is already coerced into multiple different numerical columns.  And the only features that are not numeric are our categorical features, which is correct."
   ]
  },
  {
   "cell_type": "markdown",
   "metadata": {
    "colab_type": "text",
    "id": "nUGR4lj5tEZc"
   },
   "source": [
    "Now let's separate our data into the features, $X$, and the target $y$."
   ]
  },
  {
   "cell_type": "code",
   "execution_count": 3,
   "metadata": {
    "colab": {},
    "colab_type": "code",
    "id": "8y1F1ztXtEZd"
   },
   "outputs": [],
   "source": [
    "X = df_sorted.drop('SalePrice', axis = 1)\n",
    "y = df_sorted['SalePrice']"
   ]
  },
  {
   "cell_type": "code",
   "execution_count": 8,
   "metadata": {},
   "outputs": [
    {
     "data": {
      "text/plain": [
       "False"
      ]
     },
     "execution_count": 8,
     "metadata": {},
     "output_type": "execute_result"
    }
   ],
   "source": [
    "'SalePrice' in X.columns \n",
    "\n",
    "# False"
   ]
  },
  {
   "cell_type": "markdown",
   "metadata": {
    "colab_type": "text",
    "id": "CtgZIUm0HX3p"
   },
   "source": [
    "According to the [catboost documentation](https://catboost.ai/docs/concepts/speed-up-training.html), one way to speed up training time is to change our object dtypes to be categorical.  So let's do that."
   ]
  },
  {
   "cell_type": "markdown",
   "metadata": {},
   "source": [
    "> First we can select our features of type object."
   ]
  },
  {
   "cell_type": "code",
   "execution_count": 4,
   "metadata": {
    "colab": {
     "base_uri": "https://localhost:8080/",
     "height": 199
    },
    "colab_type": "code",
    "id": "VxJA7YdGHPuK",
    "outputId": "4ea355f5-1073-4834-f176-9c32e76ae894"
   },
   "outputs": [
    {
     "data": {
      "text/html": [
       "<div>\n",
       "<style scoped>\n",
       "    .dataframe tbody tr th:only-of-type {\n",
       "        vertical-align: middle;\n",
       "    }\n",
       "\n",
       "    .dataframe tbody tr th {\n",
       "        vertical-align: top;\n",
       "    }\n",
       "\n",
       "    .dataframe thead th {\n",
       "        text-align: right;\n",
       "    }\n",
       "</style>\n",
       "<table border=\"1\" class=\"dataframe\">\n",
       "  <thead>\n",
       "    <tr style=\"text-align: right;\">\n",
       "      <th></th>\n",
       "      <th>UsageBand</th>\n",
       "      <th>fiModelDesc</th>\n",
       "      <th>fiBaseModel</th>\n",
       "      <th>fiSecondaryDesc</th>\n",
       "      <th>fiModelSeries</th>\n",
       "      <th>fiModelDescriptor</th>\n",
       "      <th>ProductSize</th>\n",
       "      <th>fiProductClassDesc</th>\n",
       "      <th>state</th>\n",
       "      <th>ProductGroup</th>\n",
       "      <th>...</th>\n",
       "      <th>Undercarriage_Pad_Width</th>\n",
       "      <th>Stick_Length</th>\n",
       "      <th>Thumb</th>\n",
       "      <th>Pattern_Changer</th>\n",
       "      <th>Grouser_Type</th>\n",
       "      <th>Backhoe_Mounting</th>\n",
       "      <th>Blade_Type</th>\n",
       "      <th>Travel_Controls</th>\n",
       "      <th>Differential_Type</th>\n",
       "      <th>Steering_Controls</th>\n",
       "    </tr>\n",
       "  </thead>\n",
       "  <tbody>\n",
       "    <tr>\n",
       "      <th>7648</th>\n",
       "      <td>Medium</td>\n",
       "      <td>312</td>\n",
       "      <td>312</td>\n",
       "      <td>-999</td>\n",
       "      <td>-999</td>\n",
       "      <td>-999</td>\n",
       "      <td>Small</td>\n",
       "      <td>Hydraulic Excavator, Track - 12.0 to 14.0 Metr...</td>\n",
       "      <td>New York</td>\n",
       "      <td>TEX</td>\n",
       "      <td>...</td>\n",
       "      <td>24 inch</td>\n",
       "      <td>9' 10\"</td>\n",
       "      <td>Manual</td>\n",
       "      <td>None or Unspecified</td>\n",
       "      <td>Triple</td>\n",
       "      <td>-999</td>\n",
       "      <td>-999</td>\n",
       "      <td>-999</td>\n",
       "      <td>-999</td>\n",
       "      <td>-999</td>\n",
       "    </tr>\n",
       "    <tr>\n",
       "      <th>8228</th>\n",
       "      <td>Low</td>\n",
       "      <td>803</td>\n",
       "      <td>803</td>\n",
       "      <td>-999</td>\n",
       "      <td>-999</td>\n",
       "      <td>-999</td>\n",
       "      <td>Mini</td>\n",
       "      <td>Hydraulic Excavator, Track - 2.0 to 3.0 Metric...</td>\n",
       "      <td>Georgia</td>\n",
       "      <td>TEX</td>\n",
       "      <td>...</td>\n",
       "      <td>None or Unspecified</td>\n",
       "      <td>None or Unspecified</td>\n",
       "      <td>None or Unspecified</td>\n",
       "      <td>None or Unspecified</td>\n",
       "      <td>Double</td>\n",
       "      <td>-999</td>\n",
       "      <td>-999</td>\n",
       "      <td>-999</td>\n",
       "      <td>-999</td>\n",
       "      <td>-999</td>\n",
       "    </tr>\n",
       "  </tbody>\n",
       "</table>\n",
       "<p>2 rows × 44 columns</p>\n",
       "</div>"
      ],
      "text/plain": [
       "     UsageBand fiModelDesc fiBaseModel fiSecondaryDesc fiModelSeries  \\\n",
       "7648    Medium         312         312            -999          -999   \n",
       "8228       Low         803         803            -999          -999   \n",
       "\n",
       "     fiModelDescriptor ProductSize  \\\n",
       "7648              -999       Small   \n",
       "8228              -999        Mini   \n",
       "\n",
       "                                     fiProductClassDesc     state  \\\n",
       "7648  Hydraulic Excavator, Track - 12.0 to 14.0 Metr...  New York   \n",
       "8228  Hydraulic Excavator, Track - 2.0 to 3.0 Metric...   Georgia   \n",
       "\n",
       "     ProductGroup  ... Undercarriage_Pad_Width         Stick_Length  \\\n",
       "7648          TEX  ...                 24 inch               9' 10\"   \n",
       "8228          TEX  ...     None or Unspecified  None or Unspecified   \n",
       "\n",
       "                    Thumb      Pattern_Changer Grouser_Type Backhoe_Mounting  \\\n",
       "7648               Manual  None or Unspecified       Triple             -999   \n",
       "8228  None or Unspecified  None or Unspecified       Double             -999   \n",
       "\n",
       "     Blade_Type Travel_Controls Differential_Type Steering_Controls  \n",
       "7648       -999            -999              -999              -999  \n",
       "8228       -999            -999              -999              -999  \n",
       "\n",
       "[2 rows x 44 columns]"
      ]
     },
     "execution_count": 4,
     "metadata": {},
     "output_type": "execute_result"
    }
   ],
   "source": [
    "object_df = None\n",
    "object_df[:2]\n",
    "\n",
    "# \tUsageBand\tfiModelDesc\tfiBaseModel\tfiSecondaryDesc\tfiModelSeries\tfiModelDescriptor\tProductSize\tfiProductClassDesc\tstate\tProductGroup\t...\tUndercarriage_Pad_Width\tStick_Length\tThumb\tPattern_Changer\tGrouser_Type\tBackhoe_Mounting\tBlade_Type\tTravel_Controls\tDifferential_Type\tSteering_Controls\n",
    "# 7648\tMedium\t312\t312\t-999\t-999\t-999\tSmall\tHydraulic Excavator, Track - 12.0 to 14.0 Metr...\tNew York\tTEX\t...\t24 inch\t9' 10\"\tManual\tNone or Unspecified\tTriple\t-999\t-999\t-999\t-999\t-999\n",
    "# 8228\tLow\t803\t803\t-999\t-999\t-999\tMini\tHydraulic Excavator, Track - 2.0 to 3.0 Metric...\tGeorgia\tTEX\t...\tNone or Unspecified\tNone or Unspecified\tNone or Unspecified\tNone or Unspecified\tDouble\t-999\t-999\t-999\t-999\t-999\n",
    "# 2 rows × 44 columns"
   ]
  },
  {
   "cell_type": "markdown",
   "metadata": {},
   "source": [
    "And from there let's set the object columns to type category."
   ]
  },
  {
   "cell_type": "code",
   "execution_count": 5,
   "metadata": {
    "colab": {
     "base_uri": "https://localhost:8080/",
     "height": 34
    },
    "colab_type": "code",
    "id": "kmUZUtoZHlEM",
    "outputId": "ba37b1d5-fdd5-4dad-efea-a7e9e6bd1415"
   },
   "outputs": [],
   "source": [
    "cat_df = object_df.astype('category')\n"
   ]
  },
  {
   "cell_type": "markdown",
   "metadata": {},
   "source": [
    "> We confirm that all of our of our columns are now of type category."
   ]
  },
  {
   "cell_type": "code",
   "execution_count": 7,
   "metadata": {
    "colab": {},
    "colab_type": "code",
    "id": "w_yHo_ZzH09Y"
   },
   "outputs": [
    {
     "data": {
      "text/plain": [
       "True"
      ]
     },
     "execution_count": 7,
     "metadata": {},
     "output_type": "execute_result"
    }
   ],
   "source": [
    "(cat_df.dtypes == 'category').all()\n",
    "# True"
   ]
  },
  {
   "cell_type": "markdown",
   "metadata": {
    "colab_type": "text",
    "id": "3b3DhmbHH8Df"
   },
   "source": [
    "Now let's replace our object columns in X with the columns in our `cat_df`."
   ]
  },
  {
   "cell_type": "code",
   "execution_count": null,
   "metadata": {
    "colab": {},
    "colab_type": "code",
    "id": "xet8t6abIRWp"
   },
   "outputs": [],
   "source": [
    "X_with_cat = X.copy() \n",
    "# replace object columns with cat columns"
   ]
  },
  {
   "cell_type": "code",
   "execution_count": null,
   "metadata": {},
   "outputs": [],
   "source": [
    "(cat_df.dtypes == 'object').any()\n",
    "# False"
   ]
  },
  {
   "cell_type": "markdown",
   "metadata": {
    "colab_type": "text",
    "id": "C7qAgitxtEZg"
   },
   "source": [
    "Then let's split our data into training, validation and test sets.  We set `shuffle = False` as we want our datasets ordered by time.  We'll have a 80-10-10 split."
   ]
  },
  {
   "cell_type": "code",
   "execution_count": null,
   "metadata": {
    "colab": {},
    "colab_type": "code",
    "id": "p8WABRA3tEZg"
   },
   "outputs": [],
   "source": [
    "from sklearn.model_selection import train_test_split\n",
    "\n",
    "X_train, X_test, y_train, y_test = train_test_split(X_with_cat, y, test_size = .2, shuffle = False)\n",
    "X_validate, X_test, y_validate, y_test = train_test_split(X_test, y_test, test_size = .5, shuffle = False)"
   ]
  },
  {
   "cell_type": "markdown",
   "metadata": {
    "colab_type": "text",
    "id": "saTrow8btEZk"
   },
   "source": [
    "> Let's again find the categorical columns.  "
   ]
  },
  {
   "cell_type": "code",
   "execution_count": 19,
   "metadata": {
    "colab": {
     "base_uri": "https://localhost:8080/",
     "height": 68
    },
    "colab_type": "code",
    "id": "YXGdImiWtEZk",
    "outputId": "ffe60abd-e5b4-4e5c-8f51-2e6685d713e2"
   },
   "outputs": [
    {
     "data": {
      "text/plain": [
       "array([ 7,  8,  9, 10, 11, 12, 13, 14, 15, 16, 17, 18, 19, 20, 21, 22, 23,\n",
       "       24, 25, 26, 27, 28, 29, 30, 31, 32, 33, 34, 35, 36, 37, 38, 39, 40,\n",
       "       41, 42, 43, 44, 45, 46, 47, 48, 49, 50])"
      ]
     },
     "execution_count": 19,
     "metadata": {
      "tags": []
     },
     "output_type": "execute_result"
    }
   ],
   "source": [
    "import numpy as np\n",
    "cal_col_idcs = np.where(X.dtypes == np.object)[0]\n",
    "cal_col_idcs\n",
    "\n",
    "# array([ 7,  8,  9, 10, 11, 12, 13, 14, 15, 16, 17, 18, 19, 20, 21, 22, 23,\n",
    "#        24, 25, 26, 27, 28, 29, 30, 31, 32, 33, 34, 35, 36, 37, 38, 39, 40,\n",
    "#        41, 42, 43, 44, 45, 46, 47, 48, 49, 50])"
   ]
  },
  {
   "cell_type": "markdown",
   "metadata": {
    "colab_type": "text",
    "id": "xOKnAIBstEZp"
   },
   "source": [
    "And let's create our datapools."
   ]
  },
  {
   "cell_type": "code",
   "execution_count": null,
   "metadata": {
    "colab": {},
    "colab_type": "code",
    "id": "25n99YestEZq"
   },
   "outputs": [],
   "source": [
    "from catboost import Pool, CatBoostRegressor\n",
    "\n",
    "train_pool = Pool(X_train, y_train, cat_features = cal_col_idcs)\n",
    "validate_pool = Pool(X_validate, y_validate, cat_features = cal_col_idcs)\n",
    "test_pool = Pool(X_test, y_test, cat_features = cal_col_idcs)"
   ]
  },
  {
   "cell_type": "markdown",
   "metadata": {
    "colab_type": "text",
    "id": "83vzk50l7zx0"
   },
   "source": [
    "Finally, let's train regressor model.  We can do so with the following parameters.  \n",
    "\n",
    "> Notice that we *splat* our parameters by using the double star."
   ]
  },
  {
   "cell_type": "code",
   "execution_count": 21,
   "metadata": {
    "colab": {
     "base_uri": "https://localhost:8080/",
     "height": 34
    },
    "colab_type": "code",
    "id": "oHpn3ZeptEZu",
    "outputId": "7606eab9-4ace-4a2a-c51b-ddc858ff9e40"
   },
   "outputs": [
    {
     "data": {
      "text/plain": [
       "0.7770237053135296"
      ]
     },
     "execution_count": 21,
     "metadata": {
      "tags": []
     },
     "output_type": "execute_result"
    }
   ],
   "source": [
    "params = {'iterations': 200, 'depth':6,  \n",
    "          'logging_level':'Silent', \n",
    "          'random_seed':42, \"task_type\":\"GPU\"}\n",
    "\n",
    "cbr = CatBoostRegressor(**params).fit(train_pool)\n",
    "\n",
    "\n",
    "cbr.score(validate_pool)"
   ]
  },
  {
   "cell_type": "markdown",
   "metadata": {
    "colab_type": "text",
    "id": "Fj8vys2_tEZx"
   },
   "source": [
    "### Tuning Hyperparameters"
   ]
  },
  {
   "cell_type": "markdown",
   "metadata": {
    "colab_type": "text",
    "id": "CTM6-52NCX1s"
   },
   "source": [
    "Now it's time to begin working with our hyperparameters.  When setting the hyperparameters below, be sure to always set the following values:\n",
    "\n",
    "* `iterations`: 200\n",
    "* `logging_level`: 'silent'\n",
    "* `task_type`: GPU"
   ]
  },
  {
   "cell_type": "markdown",
   "metadata": {
    "colab_type": "text",
    "id": "MHkBu5UxtEZ5"
   },
   "source": [
    "1. Max depth "
   ]
  },
  {
   "cell_type": "markdown",
   "metadata": {
    "colab_type": "text",
    "id": "vf7cQElCtEZ8"
   },
   "source": [
    "Next let's move onto max depth.  The maximum value that catboost allows for `max_depth` is 16.  Let's try values between 4 and 12.  "
   ]
  },
  {
   "cell_type": "code",
   "execution_count": 8,
   "metadata": {
    "colab": {
     "base_uri": "https://localhost:8080/",
     "height": 34
    },
    "colab_type": "code",
    "id": "SeugQz6rtEZ9",
    "outputId": "a5059172-bd21-44a2-d53d-669bd5d95c25"
   },
   "outputs": [
    {
     "data": {
      "text/plain": [
       "[4, 6, 8, 10, 12]"
      ]
     },
     "execution_count": 8,
     "metadata": {
      "tags": []
     },
     "output_type": "execute_result"
    }
   ],
   "source": [
    "max_depths = None\n",
    "max_depths\n",
    "\n",
    "# [4, 6, 8, 10, 12]"
   ]
  },
  {
   "cell_type": "code",
   "execution_count": 22,
   "metadata": {
    "colab": {
     "base_uri": "https://localhost:8080/",
     "height": 34
    },
    "colab_type": "code",
    "id": "YFOrSaqMtEZ_",
    "outputId": "a3064b76-daab-4bd2-c90c-b4a81f04a014"
   },
   "outputs": [
    {
     "name": "stdout",
     "output_type": "stream",
     "text": [
      "1 loop, best of 3: 1min 4s per loop\n"
     ]
    }
   ],
   "source": [
    "\n",
    "model_depths = None"
   ]
  },
  {
   "cell_type": "markdown",
   "metadata": {
    "colab_type": "text",
    "id": "tXFFxlAwDA_F"
   },
   "source": [
    "Next, let's check the validation scores on each of the models we trained above."
   ]
  },
  {
   "cell_type": "code",
   "execution_count": 24,
   "metadata": {
    "colab": {
     "base_uri": "https://localhost:8080/",
     "height": 34
    },
    "colab_type": "code",
    "id": "GFUsL2QIDKBw",
    "outputId": "7147b54e-41b8-444b-b0cd-b2f8a9aab0b3"
   },
   "outputs": [
    {
     "data": {
      "text/plain": [
       "[0.7659049418450385, 0.7775122482929486]"
      ]
     },
     "execution_count": 24,
     "metadata": {
      "tags": []
     },
     "output_type": "execute_result"
    }
   ],
   "source": [
    "depth_scores = None\n",
    "depth_scores[:2]\n",
    "\n",
    "# [0.7659049418450385, 0.7775122482929486]"
   ]
  },
  {
   "cell_type": "markdown",
   "metadata": {
    "colab_type": "text",
    "id": "o9KniKE5tEaB"
   },
   "source": [
    "Initialize a series with the labels as the the `max_depth` values and the values as the corresponding validation scores."
   ]
  },
  {
   "cell_type": "code",
   "execution_count": 26,
   "metadata": {
    "colab": {
     "base_uri": "https://localhost:8080/",
     "height": 119
    },
    "colab_type": "code",
    "id": "jme55nXWC_gg",
    "outputId": "be0401ba-c1cf-4f7a-cb74-f610f0ddaa80"
   },
   "outputs": [
    {
     "data": {
      "text/plain": [
       "4     0.765905\n",
       "6     0.777512\n",
       "8     0.783817\n",
       "10    0.760517\n",
       "12    0.751324\n",
       "dtype: float64"
      ]
     },
     "execution_count": 26,
     "metadata": {
      "tags": []
     },
     "output_type": "execute_result"
    }
   ],
   "source": [
    "max_depth_series = None\n",
    "max_depth_series\n",
    "\n",
    "# 4     0.765905\n",
    "# 6     0.777512\n",
    "# 8     0.783817\n",
    "# 10    0.760517\n",
    "# 12    0.751324\n",
    "# dtype: float64"
   ]
  },
  {
   "cell_type": "markdown",
   "metadata": {
    "colab_type": "text",
    "id": "it-6ORNGK1fD"
   },
   "source": [
    "We can see that `max_depth` peaks at 8.  Let's set that as our hyperparameter value going forward."
   ]
  },
  {
   "cell_type": "markdown",
   "metadata": {
    "colab_type": "text",
    "id": "ILc3lR7WtEaC"
   },
   "source": [
    "2. Column Sample by Level"
   ]
  },
  {
   "cell_type": "markdown",
   "metadata": {
    "colab_type": "text",
    "id": "S9HgdOFYtEaD"
   },
   "source": [
    "Now let's move onto `colsample_bylevel`.  Remember that allows us to specify the percentage of features that are considered on each split of the decision tree.  \n",
    "\n",
    "For catboost, we can pass through any value x, $ 0 \\gt x \\leq 1 $.  So let's initialize a list of ten fractions from one tenth to one, and see how they perform."
   ]
  },
  {
   "cell_type": "code",
   "execution_count": 28,
   "metadata": {
    "colab": {
     "base_uri": "https://localhost:8080/",
     "height": 34
    },
    "colab_type": "code",
    "id": "jFt0qXFStEaD",
    "outputId": "3c8ab852-5f51-4f9f-b4e2-7bef85ca4233"
   },
   "outputs": [
    {
     "data": {
      "text/plain": [
       "array([0.1, 0.2, 0.3, 0.4, 0.5, 0.6, 0.7, 0.8, 0.9, 1. ])"
      ]
     },
     "execution_count": 28,
     "metadata": {
      "tags": []
     },
     "output_type": "execute_result"
    }
   ],
   "source": [
    "import numpy as np\n",
    "col_sample_pcts = None\n",
    "col_sample_pcts\n",
    "\n",
    "# array([0.1, 0.2, 0.3, 0.4, 0.5, 0.6, 0.7, 0.8, 0.9, 1. ])"
   ]
  },
  {
   "cell_type": "markdown",
   "metadata": {
    "colab_type": "text",
    "id": "T-IAnMrhLs7b"
   },
   "source": [
    "An alias for `colsample_bylevel` is random subspace, or rsm.  Unfortunately, rsm is only available on a CPU.  So set the `task_type` to CPU to train this hyperparameter."
   ]
  },
  {
   "cell_type": "code",
   "execution_count": null,
   "metadata": {
    "colab": {},
    "colab_type": "code",
    "id": "QD-bu8qPtEaG"
   },
   "outputs": [],
   "source": [
    "model_sample_pcts = None"
   ]
  },
  {
   "cell_type": "code",
   "execution_count": 32,
   "metadata": {
    "colab": {
     "base_uri": "https://localhost:8080/",
     "height": 187
    },
    "colab_type": "code",
    "id": "tfT7p_AmOOkR",
    "outputId": "b712e88e-9e6e-4c46-8424-e3b209e2fa7e"
   },
   "outputs": [
    {
     "data": {
      "text/plain": [
       "[0.8132362857514441,\n",
       " 0.8120038687449829,\n",
       " 0.813863897895586,\n",
       " 0.8121112813610925,\n",
       " 0.8142525559257833,\n",
       " 0.813259623405968,\n",
       " 0.8112427106146669,\n",
       " 0.8184105335645979,\n",
       " 0.8147599987772485,\n",
       " 0.8163274725567524]"
      ]
     },
     "execution_count": 32,
     "metadata": {
      "tags": []
     },
     "output_type": "execute_result"
    }
   ],
   "source": [
    "sample_pct_scores = None\n",
    "sample_pct_scores\n",
    "\n",
    "# 0.8132362857514441,\n",
    "#  0.8120038687449829,\n",
    "#  0.813863897895586,\n",
    "#  0.8121112813610925,\n",
    "#  0.8142525559257833,\n",
    "#  0.813259623405968,\n",
    "#  0.8112427106146669,\n",
    "#  0.8184105335645979,\n",
    "#  0.8147599987772485,\n",
    "#  0.8163274725567524]"
   ]
  },
  {
   "cell_type": "markdown",
   "metadata": {
    "colab_type": "text",
    "id": "MoknRVe4OcwC"
   },
   "source": [
    "We can see that here, there does not appear to be much difference as we change this hyperaparameter.  So let's leave it out.\n",
    "\n",
    "> But oddly, there does appear to be a significant increase in using the CPU.  Let's keep that in mind."
   ]
  },
  {
   "cell_type": "markdown",
   "metadata": {
    "colab_type": "text",
    "id": "qxZpx5LNfowB"
   },
   "source": [
    "3. L2_regularization"
   ]
  },
  {
   "cell_type": "markdown",
   "metadata": {
    "colab_type": "text",
    "id": "IigiFPt4fqzR"
   },
   "source": [
    "Now let's try using L2 regularization, with values between 1 and 5."
   ]
  },
  {
   "cell_type": "code",
   "execution_count": 89,
   "metadata": {
    "colab": {
     "base_uri": "https://localhost:8080/",
     "height": 34
    },
    "colab_type": "code",
    "id": "qbfziRi9f7Qj",
    "outputId": "7066f108-2088-4c65-b7db-d3570488bd87"
   },
   "outputs": [
    {
     "data": {
      "text/plain": [
       "array([1, 2, 3, 4, 5])"
      ]
     },
     "execution_count": 89,
     "metadata": {
      "tags": []
     },
     "output_type": "execute_result"
    }
   ],
   "source": [
    "l2_vals = None\n",
    "l2_vals\n",
    "\n",
    "# array([1, 2, 3, 4, 5])"
   ]
  },
  {
   "cell_type": "code",
   "execution_count": null,
   "metadata": {
    "colab": {},
    "colab_type": "code",
    "id": "odmh1Wa1fuqr"
   },
   "outputs": [],
   "source": [
    "model_sample_pcts = None"
   ]
  },
  {
   "cell_type": "code",
   "execution_count": 91,
   "metadata": {
    "colab": {
     "base_uri": "https://localhost:8080/",
     "height": 102
    },
    "colab_type": "code",
    "id": "gjOhmQKYgzxF",
    "outputId": "29711f2b-2522-4e70-bc04-a7f2e0f8257d"
   },
   "outputs": [
    {
     "data": {
      "text/plain": [
       "[0.6613824960577861,\n",
       " 0.6571175886055414,\n",
       " 0.6557103150694057,\n",
       " 0.6516318365424489,\n",
       " 0.6541637682457586]"
      ]
     },
     "execution_count": 91,
     "metadata": {
      "tags": []
     },
     "output_type": "execute_result"
    }
   ],
   "source": [
    "sample_pct_scores = None\n",
    "\n",
    "sample_pct_scores"
   ]
  },
  {
   "cell_type": "markdown",
   "metadata": {
    "colab_type": "text",
    "id": "_lx5GCRziYgG"
   },
   "source": [
    "It looks like we cannot find any values here that improve our score, so let's not use l2_leaf_reg. "
   ]
  },
  {
   "cell_type": "code",
   "execution_count": null,
   "metadata": {
    "colab": {},
    "colab_type": "code",
    "id": "EzlskvjMhbci"
   },
   "outputs": [],
   "source": [
    "model = None"
   ]
  },
  {
   "cell_type": "code",
   "execution_count": 96,
   "metadata": {
    "colab": {
     "base_uri": "https://localhost:8080/",
     "height": 34
    },
    "colab_type": "code",
    "id": "zRXVTldChhEv",
    "outputId": "260e7b3c-89e2-4bc5-b052-7247633888ef"
   },
   "outputs": [
    {
     "data": {
      "text/plain": [
       "0.8163274725567524"
      ]
     },
     "execution_count": 96,
     "metadata": {
      "tags": []
     },
     "output_type": "execute_result"
    }
   ],
   "source": [
    "model.score(validate_pool)"
   ]
  },
  {
   "cell_type": "markdown",
   "metadata": {
    "colab_type": "text",
    "id": "m9IRanfchThP"
   },
   "source": [
    "Here, we see that our best score is when we have a value of 1.  So let's try leaving it out entirely, and see how we perform."
   ]
  },
  {
   "cell_type": "markdown",
   "metadata": {
    "colab_type": "text",
    "id": "ZonSZXNQtEaJ"
   },
   "source": [
    "### Learning Rate"
   ]
  },
  {
   "cell_type": "markdown",
   "metadata": {
    "colab_type": "text",
    "id": "ZcWmL5orEwrc"
   },
   "source": [
    "Finally let's move onto the learning rate and number of iterations.  The first step is to find the number of iterations that is maximized for a specific learning rate.   Here, we'll start with 5000 iterations."
   ]
  },
  {
   "cell_type": "markdown",
   "metadata": {
    "colab_type": "text",
    "id": "u8J5d0EFVPXg"
   },
   "source": [
    "We can how many iterations is best by using the overfitting detector.  We can set this up by using `od_type='Iter'` and od_wait=40.  This means it will stop if it sees no improvement for 40 iterations.  \n",
    "\n",
    "We should pass through an `eval_set = validation_pool` to the fit method, so that it can evaluate on the validation set. "
   ]
  },
  {
   "cell_type": "markdown",
   "metadata": {
    "colab_type": "text",
    "id": "L-Fy9_RHRGAV"
   },
   "source": [
    "> We can set the `eval_metric` as \"R2\", so we can see the comparison in score.  However, this is not available with GPU.  So let's stick with the default of RMSE."
   ]
  },
  {
   "cell_type": "code",
   "execution_count": null,
   "metadata": {
    "colab": {},
    "colab_type": "code",
    "id": "QWuausFytEaK"
   },
   "outputs": [],
   "source": [
    "model_learn = None"
   ]
  },
  {
   "cell_type": "code",
   "execution_count": 63,
   "metadata": {
    "colab": {
     "base_uri": "https://localhost:8080/",
     "height": 51
    },
    "colab_type": "code",
    "id": "s10WJWj4O96Q",
    "outputId": "b5e63c70-d60c-4aa2-d21d-724061cb50d0"
   },
   "outputs": [
    {
     "data": {
      "text/plain": [
       "{'learn': {'RMSE': 9145.615675283978},\n",
       " 'validation': {'RMSE': 12046.234303548972}}"
      ]
     },
     "execution_count": 63,
     "metadata": {
      "tags": []
     },
     "output_type": "execute_result"
    }
   ],
   "source": [
    "model_learn.best_score_\n",
    "\n",
    "# {'learn': {'RMSE': 9145.615675283978},\n",
    "#  'validation': {'RMSE': 12046.234303548972}}"
   ]
  },
  {
   "cell_type": "markdown",
   "metadata": {
    "colab_type": "text",
    "id": "DgJeBE-eWH0C"
   },
   "source": [
    "We can see the validation r2 score with the `score` method."
   ]
  },
  {
   "cell_type": "code",
   "execution_count": 65,
   "metadata": {
    "colab": {
     "base_uri": "https://localhost:8080/",
     "height": 34
    },
    "colab_type": "code",
    "id": "903ESZMGtEaM",
    "outputId": "b57fdf34-69d4-4b33-99fd-331be5f7a245"
   },
   "outputs": [
    {
     "data": {
      "text/plain": [
       "0.7643614826582625"
      ]
     },
     "execution_count": 65,
     "metadata": {
      "tags": []
     },
     "output_type": "execute_result"
    }
   ],
   "source": [
    "model_learn.score(validate_pool)\n",
    "\n",
    "# 0.7643614826582625"
   ]
  },
  {
   "cell_type": "markdown",
   "metadata": {
    "colab_type": "text",
    "id": "gr-ZdvPFtEaP"
   },
   "source": [
    "> Now that we found the ideal learning rate at that number of iterations.  Let's double the number of iterations and cut the learning rate in half.  Because we are using early stopping, we can set our number of iterations to 8000, even though doubling would take us to 7000.  Cutting the learning rate in half leaves it at .005."
   ]
  },
  {
   "cell_type": "code",
   "execution_count": null,
   "metadata": {
    "colab": {},
    "colab_type": "code",
    "id": "rsHXdCRctEaQ"
   },
   "outputs": [],
   "source": [
    "regressor_learn = None"
   ]
  },
  {
   "cell_type": "markdown",
   "metadata": {},
   "source": [
    "Look at the score on the validation pool."
   ]
  },
  {
   "cell_type": "code",
   "execution_count": 72,
   "metadata": {
    "colab": {
     "base_uri": "https://localhost:8080/",
     "height": 34
    },
    "colab_type": "code",
    "id": "WNUKkkeUYX4c",
    "outputId": "d3d909bf-fb5b-4c54-c8af-f87dbfd37d8e"
   },
   "outputs": [
    {
     "data": {
      "text/plain": [
       "0.7658185187953346"
      ]
     },
     "execution_count": 72,
     "metadata": {
      "tags": []
     },
     "output_type": "execute_result"
    }
   ],
   "source": [
    "# validation score\n",
    "\n",
    "# 0.7658185187953346"
   ]
  },
  {
   "cell_type": "markdown",
   "metadata": {
    "colab_type": "text",
    "id": "KOFH8Nj-fd76"
   },
   "source": [
    "> So we see a small improvement in our score.  Look at the `best_score_`"
   ]
  },
  {
   "cell_type": "code",
   "execution_count": 73,
   "metadata": {
    "colab": {
     "base_uri": "https://localhost:8080/",
     "height": 51
    },
    "colab_type": "code",
    "id": "x_yUn3xCcd00",
    "outputId": "e2222994-b31f-409f-a6d2-1d49ea04be98"
   },
   "outputs": [
    {
     "data": {
      "text/plain": [
       "{'learn': {'RMSE': 9040.387276660222},\n",
       " 'validation': {'RMSE': 12008.937215923814}}"
      ]
     },
     "execution_count": 73,
     "metadata": {
      "tags": []
     },
     "output_type": "execute_result"
    }
   ],
   "source": [
    "\n",
    "\n",
    "# {'learn': {'RMSE': 9040.387276660222},\n",
    "#  'validation': {'RMSE': 12008.937215923814}}"
   ]
  },
  {
   "cell_type": "markdown",
   "metadata": {},
   "source": [
    "> And the best iteration."
   ]
  },
  {
   "cell_type": "code",
   "execution_count": 74,
   "metadata": {
    "colab": {
     "base_uri": "https://localhost:8080/",
     "height": 34
    },
    "colab_type": "code",
    "id": "YGYwL6x1fZQE",
    "outputId": "298c1614-ba74-4431-8df9-64c62f8cc1c1"
   },
   "outputs": [
    {
     "data": {
      "text/plain": [
       "7996"
      ]
     },
     "execution_count": 74,
     "metadata": {
      "tags": []
     },
     "output_type": "execute_result"
    }
   ],
   "source": [
    "regressor_learn.best_iteration_\n",
    "\n",
    "# 7996"
   ]
  },
  {
   "cell_type": "markdown",
   "metadata": {
    "colab_type": "text",
    "id": "alwDkaKdit7n"
   },
   "source": [
    "Finally, let's try training on our CPU, as that also appeared to improve our score."
   ]
  },
  {
   "cell_type": "code",
   "execution_count": null,
   "metadata": {
    "colab": {},
    "colab_type": "code",
    "id": "G-mDkCGSi93c"
   },
   "outputs": [],
   "source": [
    "regressor_cpu = None"
   ]
  },
  {
   "cell_type": "code",
   "execution_count": 101,
   "metadata": {
    "colab": {
     "base_uri": "https://localhost:8080/",
     "height": 34
    },
    "colab_type": "code",
    "id": "ddST3KfLn1By",
    "outputId": "8fdacb31-1836-4981-98da-5815a81b6df9"
   },
   "outputs": [
    {
     "data": {
      "text/plain": [
       "0.8240710727054391"
      ]
     },
     "execution_count": 101,
     "metadata": {
      "tags": []
     },
     "output_type": "execute_result"
    }
   ],
   "source": [
    "regressor_cpu.score(validate_pool)\n",
    "\n",
    "# 0.8240710727054391"
   ]
  },
  {
   "cell_type": "markdown",
   "metadata": {
    "colab_type": "text",
    "id": "UrXfmdy-n4Bv"
   },
   "source": [
    "So again, we see a significant improvement in our score by using the cpu."
   ]
  },
  {
   "cell_type": "markdown",
   "metadata": {
    "colab_type": "text",
    "id": "BQZfOP04XnCn"
   },
   "source": [
    "### Summary"
   ]
  },
  {
   "cell_type": "markdown",
   "metadata": {
    "colab_type": "text",
    "id": "sBz5jNZ7XoUk"
   },
   "source": [
    "In this lesson, we learned how to work with the catboost hyperparameters.  We worked with the `max_depth`, and `colsample_bylevel`.  Training time for catboost is significant, as it must train each decision tree sequentially.  To try to speed up training time, we used `task_type = 'GPU'` when possible.  \n",
    "\n",
    "We finished up by tuning the learning rate.  We used early stopping with the overfitting detector by setting the hyperparameter of `od_type='Iter'` and `od_wait= 40`."
   ]
  },
  {
   "cell_type": "markdown",
   "metadata": {
    "colab_type": "text",
    "id": "lkvOZMyJFmgH"
   },
   "source": [
    "### Resources\n",
    "\n",
    "[Speeding up Catboost](https://catboost.ai/docs/concepts/speed-up-training.html)"
   ]
  }
 ],
 "metadata": {
  "accelerator": "GPU",
  "colab": {
   "name": "9-hyperparam-tuning.ipynb",
   "provenance": []
  },
  "kernelspec": {
   "display_name": "Python 3",
   "language": "python",
   "name": "python3"
  },
  "language_info": {
   "codemirror_mode": {
    "name": "ipython",
    "version": 3
   },
   "file_extension": ".py",
   "mimetype": "text/x-python",
   "name": "python",
   "nbconvert_exporter": "python",
   "pygments_lexer": "ipython3",
   "version": "3.7.4"
  }
 },
 "nbformat": 4,
 "nbformat_minor": 4
}
